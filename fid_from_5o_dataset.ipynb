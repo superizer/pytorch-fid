{
 "cells": [
  {
   "cell_type": "code",
   "execution_count": 1,
   "metadata": {},
   "outputs": [],
   "source": [
    "import numpy as np\n",
    "import png\n",
    "import imageio\n",
    "import os\n",
    "import IPython.display\n",
    "import PIL.Image\n",
    "from fid_score import calculate_fid_given_paths"
   ]
  },
  {
   "cell_type": "markdown",
   "metadata": {},
   "source": [
    "Original data path is on ../vqvae/data.npy and ../vqvae/labels.npy                # (2080, 128, 128, 3)\n",
    "\n",
    "Generated data from 5 operations is on ../cancer_deep_learning/new_data.npy and   # (10400, 128, 128, 3)\n",
    "                                       ../cancer_deep_learning/new_labels.npy"
   ]
  },
  {
   "cell_type": "code",
   "execution_count": 2,
   "metadata": {},
   "outputs": [],
   "source": [
    "original_data     = np.load('../vqvae/data.npy')\n",
    "generated_5o_data = np.load('../cancer_deep_learning/new_data.npy')"
   ]
  },
  {
   "cell_type": "code",
   "execution_count": 4,
   "metadata": {},
   "outputs": [
    {
     "data": {
      "image/png": "[encoded data removed]",
      "text/plain": [
       "<PIL.Image.Image image mode=RGB size=128x128 at 0x7F79E4A09860>"
      ]
     },
     "metadata": {},
     "output_type": "display_data"
    }
   ],
   "source": [
    "IPython.display.display(PIL.Image.fromarray(original_data[0]))\n",
    "#print(labels[0])"
   ]
  },
  {
   "cell_type": "code",
   "execution_count": 6,
   "metadata": {},
   "outputs": [],
   "source": [
    "if not os.path.exists('original'):\n",
    "    os.mkdir('original')"
   ]
  },
  {
   "cell_type": "code",
   "execution_count": 7,
   "metadata": {},
   "outputs": [],
   "source": [
    "for i in range(len(original_data)):\n",
    "    path = 'original/' + str(i) + '.png'\n",
    "    imageio.imwrite(path, original_data[i])"
   ]
  },
  {
   "cell_type": "code",
   "execution_count": 8,
   "metadata": {},
   "outputs": [],
   "source": [
    "if not os.path.exists('generated_5o_data'):\n",
    "    os.mkdir('generated_5o_data')"
   ]
  },
  {
   "cell_type": "code",
   "execution_count": 9,
   "metadata": {},
   "outputs": [],
   "source": [
    "for i in range(len(generated_5o_data)):\n",
    "    path = 'generated_5o_data/' + str(i) + '.png'\n",
    "    imageio.imwrite(path, generated_5o_data[i])"
   ]
  },
  {
   "cell_type": "code",
   "execution_count": 12,
   "metadata": {},
   "outputs": [],
   "source": [
    "path       = ['original','generated_5o_data']\n",
    "batch_size = 20\n",
    "gpu        = True\n",
    "dims       = 2048"
   ]
  },
  {
   "cell_type": "code",
   "execution_count": 13,
   "metadata": {},
   "outputs": [
    {
     "name": "stderr",
     "output_type": "stream",
     "text": [
      "Downloading: \"https://github.com/mseitzer/pytorch-fid/releases/download/fid_weights/pt_inception-2015-12-05-6726825d.pth\" to /home/tone/.cache/torch/checkpoints/pt_inception-2015-12-05-6726825d.pth\n",
      "100%|██████████| 95628359/95628359 [02:33<00:00, 621265.14it/s]\n",
      "100%|██████████| 104/104 [00:06<00:00, 16.51it/s]\n",
      "100%|██████████| 520/520 [00:31<00:00, 16.68it/s]\n"
     ]
    },
    {
     "name": "stdout",
     "output_type": "stream",
     "text": [
      "FID:  49.97342901642361\n"
     ]
    }
   ],
   "source": [
    "fid_value = calculate_fid_given_paths(path, batch_size, gpu, dims)\n",
    "print('FID: ', fid_value)"
   ]
  },
  {
   "cell_type": "code",
   "execution_count": null,
   "metadata": {},
   "outputs": [],
   "source": []
  },
  {
   "cell_type": "code",
   "execution_count": null,
   "metadata": {},
   "outputs": [],
   "source": []
  }
 ],
 "metadata": {
  "kernelspec": {
   "display_name": "Python 3",
   "language": "python",
   "name": "python3"
  },
  "language_info": {
   "codemirror_mode": {
    "name": "ipython",
    "version": 3
   },
   "file_extension": ".py",
   "mimetype": "text/x-python",
   "name": "python",
   "nbconvert_exporter": "python",
   "pygments_lexer": "ipython3",
   "version": "3.6.7"
  }
 },
 "nbformat": 4,
 "nbformat_minor": 2
}
